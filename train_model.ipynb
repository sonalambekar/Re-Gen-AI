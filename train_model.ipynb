{
 "cells": [
  {
   "cell_type": "code",
   "execution_count": 1,
   "id": "import-libraries",
   "metadata": {},
   "outputs": [],
   "source": [
    "import torch\n",
    "import torch.nn as nn\n",
    "import torch.optim as optim\n",
    "import torchvision.transforms as transforms\n",
    "import torchvision.datasets as datasets\n",
    "from torch.utils.data import DataLoader\n",
    "import matplotlib.pyplot as plt\n"
   ]
  },
  {
   "cell_type": "code",
   "execution_count": 8,
   "metadata": {},
   "outputs": [
    {
     "name": "stdout",
     "output_type": "stream",
     "text": [
      "Filtered dataset size: 6000 images\n"
     ]
    }
   ],
   "source": [
    "# Define selected classes\n",
    "selected_classes = [\"AnnualCrop\", \"Residential\"]\n",
    "\n",
    "# Load full dataset\n",
    "full_dataset = datasets.ImageFolder(root=data_dir, transform=transform)\n",
    "\n",
    "# Create label mapping (AnnualCrop → 0, Residential → 1)\n",
    "class_to_index = full_dataset.class_to_idx  # {'AnnualCrop': 0, 'Forest': 1, ..., 'Residential': 7}\n",
    "label_mapping = {class_to_index[\"AnnualCrop\"]: 0, class_to_index[\"Residential\"]: 1}\n",
    "\n",
    "# Filter dataset and remap labels\n",
    "filtered_data = [(img, label_mapping[label]) for img, label in full_dataset if label in label_mapping]\n",
    "\n",
    "# Convert to DataLoader\n",
    "data_loader = DataLoader(filtered_data, batch_size=32, shuffle=True)\n",
    "\n",
    "print(f\"Filtered dataset size: {len(filtered_data)} images\")\n"
   ]
  },
  {
   "cell_type": "code",
   "execution_count": 6,
   "id": "define-model",
   "metadata": {},
   "outputs": [],
   "source": [
    "# Define CNN Model\n",
    "class CNNModel(nn.Module):\n",
    "    def __init__(self, num_classes=2):\n",
    "        super(CNNModel, self).__init__()\n",
    "        self.conv1 = nn.Conv2d(3, 16, kernel_size=3, padding=1)\n",
    "        self.conv2 = nn.Conv2d(16, 32, kernel_size=3, padding=1)\n",
    "        self.conv3 = nn.Conv2d(32, 64, kernel_size=3, padding=1)\n",
    "        self.pool = nn.MaxPool2d(2, 2)\n",
    "        self.fc1 = nn.Linear(64 * 8 * 8, 128)\n",
    "        self.fc2 = nn.Linear(128, num_classes)\n",
    "        self.relu = nn.ReLU()\n",
    "\n",
    "    def forward(self, x):\n",
    "        x = self.pool(self.relu(self.conv1(x)))\n",
    "        x = self.pool(self.relu(self.conv2(x)))\n",
    "        x = self.pool(self.relu(self.conv3(x)))\n",
    "        x = x.view(-1, 64 * 8 * 8)\n",
    "        x = self.relu(self.fc1(x))\n",
    "        x = self.fc2(x)\n",
    "        return x\n"
   ]
  },
  {
   "cell_type": "code",
   "execution_count": 9,
   "id": "train-model",
   "metadata": {},
   "outputs": [
    {
     "name": "stdout",
     "output_type": "stream",
     "text": [
      "Epoch [1/10], Loss: 0.1076\n",
      "Epoch [2/10], Loss: 0.0219\n",
      "Epoch [3/10], Loss: 0.0209\n",
      "Epoch [4/10], Loss: 0.0063\n",
      "Epoch [5/10], Loss: 0.0149\n",
      "Epoch [6/10], Loss: 0.0051\n",
      "Epoch [7/10], Loss: 0.0027\n",
      "Epoch [8/10], Loss: 0.0032\n",
      "Epoch [9/10], Loss: 0.0041\n",
      "Epoch [10/10], Loss: 0.0057\n"
     ]
    }
   ],
   "source": [
    "# Define model with 2 output classes\n",
    "model = CNNModel(num_classes=2)\n",
    "\n",
    "# Move model to GPU if available\n",
    "device = torch.device(\"cuda\" if torch.cuda.is_available() else \"cpu\")\n",
    "model.to(device)\n",
    "\n",
    "# Define loss and optimizer\n",
    "criterion = nn.CrossEntropyLoss()\n",
    "optimizer = optim.Adam(model.parameters(), lr=0.001)\n",
    "\n",
    "# Training loop\n",
    "epochs = 10\n",
    "for epoch in range(epochs):\n",
    "    total_loss = 0\n",
    "    for images, labels in data_loader:\n",
    "        images, labels = images.to(device), labels.to(device)\n",
    "\n",
    "        optimizer.zero_grad()\n",
    "        outputs = model(images)\n",
    "        loss = criterion(outputs, labels)\n",
    "\n",
    "        loss.backward()\n",
    "        optimizer.step()\n",
    "\n",
    "        total_loss += loss.item()\n",
    "\n",
    "    print(f\"Epoch [{epoch+1}/{epochs}], Loss: {total_loss / len(data_loader):.4f}\")\n"
   ]
  },
  {
   "cell_type": "code",
   "execution_count": 10,
   "id": "save-model",
   "metadata": {},
   "outputs": [
    {
     "name": "stdout",
     "output_type": "stream",
     "text": [
      "Model training complete and saved as eurosat_cnn_2.pth\n"
     ]
    }
   ],
   "source": [
    "# Save the model\n",
    "torch.save(model.state_dict(), \"eurosat_cnn_2.pth\")\n",
    "print(\"Model training complete and saved as eurosat_cnn_2.pth\")"
   ]
  },
  {
   "cell_type": "code",
   "execution_count": null,
   "metadata": {},
   "outputs": [],
   "source": []
  }
 ],
 "metadata": {
  "kernelspec": {
   "display_name": "Python 3",
   "language": "python",
   "name": "python3"
  },
  "language_info": {
   "codemirror_mode": {
    "name": "ipython",
    "version": 3
   },
   "file_extension": ".py",
   "mimetype": "text/x-python",
   "name": "python",
   "nbconvert_exporter": "python",
   "pygments_lexer": "ipython3",
   "version": "3.8.8"
  }
 },
 "nbformat": 4,
 "nbformat_minor": 4
}
